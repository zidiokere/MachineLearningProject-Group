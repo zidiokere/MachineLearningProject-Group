{
 "cells": [
  {
   "cell_type": "markdown",
   "id": "4c64d8ff",
   "metadata": {},
   "source": [
    "#   Machine Learning Group Project\n",
    "##  Forest Fires\n",
    "#### Tim Wells, Zidi Okere, Danielle Nario, Grace Kim, Mia Cordoba, Jarvious Jones"
   ]
  },
  {
   "cell_type": "code",
   "execution_count": 62,
   "id": "334e9533",
   "metadata": {},
   "outputs": [],
   "source": [
    "import pandas as pd\n",
    "import numpy as np\n",
    "import matplotlib as mpl\n",
    "import matplotlib.pyplot as plt\n",
    "import statistics as stat\n",
    "%matplotlib inline\n",
    "plt.style.use('seaborn-whitegrid')\n",
    "from sklearn import preprocessing"
   ]
  },
  {
   "cell_type": "code",
   "execution_count": 51,
   "id": "614c74ae",
   "metadata": {},
   "outputs": [
    {
     "data": {
      "text/html": [
       "<div>\n",
       "<style scoped>\n",
       "    .dataframe tbody tr th:only-of-type {\n",
       "        vertical-align: middle;\n",
       "    }\n",
       "\n",
       "    .dataframe tbody tr th {\n",
       "        vertical-align: top;\n",
       "    }\n",
       "\n",
       "    .dataframe thead th {\n",
       "        text-align: right;\n",
       "    }\n",
       "</style>\n",
       "<table border=\"1\" class=\"dataframe\">\n",
       "  <thead>\n",
       "    <tr style=\"text-align: right;\">\n",
       "      <th></th>\n",
       "      <th>X</th>\n",
       "      <th>Y</th>\n",
       "      <th>month</th>\n",
       "      <th>day</th>\n",
       "      <th>FFMC</th>\n",
       "      <th>DMC</th>\n",
       "      <th>DC</th>\n",
       "      <th>ISI</th>\n",
       "      <th>temp</th>\n",
       "      <th>RH</th>\n",
       "      <th>wind</th>\n",
       "      <th>rain</th>\n",
       "      <th>area</th>\n",
       "    </tr>\n",
       "  </thead>\n",
       "  <tbody>\n",
       "    <tr>\n",
       "      <th>0</th>\n",
       "      <td>7</td>\n",
       "      <td>5</td>\n",
       "      <td>mar</td>\n",
       "      <td>fri</td>\n",
       "      <td>86.2</td>\n",
       "      <td>26.2</td>\n",
       "      <td>94.3</td>\n",
       "      <td>5.1</td>\n",
       "      <td>8.2</td>\n",
       "      <td>51</td>\n",
       "      <td>6.7</td>\n",
       "      <td>0.0</td>\n",
       "      <td>0.00</td>\n",
       "    </tr>\n",
       "    <tr>\n",
       "      <th>1</th>\n",
       "      <td>7</td>\n",
       "      <td>4</td>\n",
       "      <td>oct</td>\n",
       "      <td>tue</td>\n",
       "      <td>90.6</td>\n",
       "      <td>35.4</td>\n",
       "      <td>669.1</td>\n",
       "      <td>6.7</td>\n",
       "      <td>18.0</td>\n",
       "      <td>33</td>\n",
       "      <td>0.9</td>\n",
       "      <td>0.0</td>\n",
       "      <td>0.00</td>\n",
       "    </tr>\n",
       "    <tr>\n",
       "      <th>2</th>\n",
       "      <td>7</td>\n",
       "      <td>4</td>\n",
       "      <td>oct</td>\n",
       "      <td>sat</td>\n",
       "      <td>90.6</td>\n",
       "      <td>43.7</td>\n",
       "      <td>686.9</td>\n",
       "      <td>6.7</td>\n",
       "      <td>14.6</td>\n",
       "      <td>33</td>\n",
       "      <td>1.3</td>\n",
       "      <td>0.0</td>\n",
       "      <td>0.00</td>\n",
       "    </tr>\n",
       "    <tr>\n",
       "      <th>3</th>\n",
       "      <td>8</td>\n",
       "      <td>6</td>\n",
       "      <td>mar</td>\n",
       "      <td>fri</td>\n",
       "      <td>91.7</td>\n",
       "      <td>33.3</td>\n",
       "      <td>77.5</td>\n",
       "      <td>9.0</td>\n",
       "      <td>8.3</td>\n",
       "      <td>97</td>\n",
       "      <td>4.0</td>\n",
       "      <td>0.2</td>\n",
       "      <td>0.00</td>\n",
       "    </tr>\n",
       "    <tr>\n",
       "      <th>4</th>\n",
       "      <td>8</td>\n",
       "      <td>6</td>\n",
       "      <td>mar</td>\n",
       "      <td>sun</td>\n",
       "      <td>89.3</td>\n",
       "      <td>51.3</td>\n",
       "      <td>102.2</td>\n",
       "      <td>9.6</td>\n",
       "      <td>11.4</td>\n",
       "      <td>99</td>\n",
       "      <td>1.8</td>\n",
       "      <td>0.0</td>\n",
       "      <td>0.00</td>\n",
       "    </tr>\n",
       "    <tr>\n",
       "      <th>...</th>\n",
       "      <td>...</td>\n",
       "      <td>...</td>\n",
       "      <td>...</td>\n",
       "      <td>...</td>\n",
       "      <td>...</td>\n",
       "      <td>...</td>\n",
       "      <td>...</td>\n",
       "      <td>...</td>\n",
       "      <td>...</td>\n",
       "      <td>...</td>\n",
       "      <td>...</td>\n",
       "      <td>...</td>\n",
       "      <td>...</td>\n",
       "    </tr>\n",
       "    <tr>\n",
       "      <th>512</th>\n",
       "      <td>4</td>\n",
       "      <td>3</td>\n",
       "      <td>aug</td>\n",
       "      <td>sun</td>\n",
       "      <td>81.6</td>\n",
       "      <td>56.7</td>\n",
       "      <td>665.6</td>\n",
       "      <td>1.9</td>\n",
       "      <td>27.8</td>\n",
       "      <td>32</td>\n",
       "      <td>2.7</td>\n",
       "      <td>0.0</td>\n",
       "      <td>6.44</td>\n",
       "    </tr>\n",
       "    <tr>\n",
       "      <th>513</th>\n",
       "      <td>2</td>\n",
       "      <td>4</td>\n",
       "      <td>aug</td>\n",
       "      <td>sun</td>\n",
       "      <td>81.6</td>\n",
       "      <td>56.7</td>\n",
       "      <td>665.6</td>\n",
       "      <td>1.9</td>\n",
       "      <td>21.9</td>\n",
       "      <td>71</td>\n",
       "      <td>5.8</td>\n",
       "      <td>0.0</td>\n",
       "      <td>54.29</td>\n",
       "    </tr>\n",
       "    <tr>\n",
       "      <th>514</th>\n",
       "      <td>7</td>\n",
       "      <td>4</td>\n",
       "      <td>aug</td>\n",
       "      <td>sun</td>\n",
       "      <td>81.6</td>\n",
       "      <td>56.7</td>\n",
       "      <td>665.6</td>\n",
       "      <td>1.9</td>\n",
       "      <td>21.2</td>\n",
       "      <td>70</td>\n",
       "      <td>6.7</td>\n",
       "      <td>0.0</td>\n",
       "      <td>11.16</td>\n",
       "    </tr>\n",
       "    <tr>\n",
       "      <th>515</th>\n",
       "      <td>1</td>\n",
       "      <td>4</td>\n",
       "      <td>aug</td>\n",
       "      <td>sat</td>\n",
       "      <td>94.4</td>\n",
       "      <td>146.0</td>\n",
       "      <td>614.7</td>\n",
       "      <td>11.3</td>\n",
       "      <td>25.6</td>\n",
       "      <td>42</td>\n",
       "      <td>4.0</td>\n",
       "      <td>0.0</td>\n",
       "      <td>0.00</td>\n",
       "    </tr>\n",
       "    <tr>\n",
       "      <th>516</th>\n",
       "      <td>6</td>\n",
       "      <td>3</td>\n",
       "      <td>nov</td>\n",
       "      <td>tue</td>\n",
       "      <td>79.5</td>\n",
       "      <td>3.0</td>\n",
       "      <td>106.7</td>\n",
       "      <td>1.1</td>\n",
       "      <td>11.8</td>\n",
       "      <td>31</td>\n",
       "      <td>4.5</td>\n",
       "      <td>0.0</td>\n",
       "      <td>0.00</td>\n",
       "    </tr>\n",
       "  </tbody>\n",
       "</table>\n",
       "<p>517 rows × 13 columns</p>\n",
       "</div>"
      ],
      "text/plain": [
       "     X  Y month  day  FFMC    DMC     DC   ISI  temp  RH  wind  rain   area\n",
       "0    7  5   mar  fri  86.2   26.2   94.3   5.1   8.2  51   6.7   0.0   0.00\n",
       "1    7  4   oct  tue  90.6   35.4  669.1   6.7  18.0  33   0.9   0.0   0.00\n",
       "2    7  4   oct  sat  90.6   43.7  686.9   6.7  14.6  33   1.3   0.0   0.00\n",
       "3    8  6   mar  fri  91.7   33.3   77.5   9.0   8.3  97   4.0   0.2   0.00\n",
       "4    8  6   mar  sun  89.3   51.3  102.2   9.6  11.4  99   1.8   0.0   0.00\n",
       "..  .. ..   ...  ...   ...    ...    ...   ...   ...  ..   ...   ...    ...\n",
       "512  4  3   aug  sun  81.6   56.7  665.6   1.9  27.8  32   2.7   0.0   6.44\n",
       "513  2  4   aug  sun  81.6   56.7  665.6   1.9  21.9  71   5.8   0.0  54.29\n",
       "514  7  4   aug  sun  81.6   56.7  665.6   1.9  21.2  70   6.7   0.0  11.16\n",
       "515  1  4   aug  sat  94.4  146.0  614.7  11.3  25.6  42   4.0   0.0   0.00\n",
       "516  6  3   nov  tue  79.5    3.0  106.7   1.1  11.8  31   4.5   0.0   0.00\n",
       "\n",
       "[517 rows x 13 columns]"
      ]
     },
     "execution_count": 51,
     "metadata": {},
     "output_type": "execute_result"
    }
   ],
   "source": [
    "forest_fires = pd.read_csv('forestfires.csv')\n",
    "forest_fires"
   ]
  },
  {
   "cell_type": "markdown",
   "id": "76f66701",
   "metadata": {},
   "source": [
    "Hypothesis: Human activity has a greater influence on the quantity of fires than environmental conditions\n",
    "\n",
    "Null: Human activity does not have a greater influence on the quantity of fires than environmental conditions\n"
   ]
  },
  {
   "cell_type": "code",
   "execution_count": 52,
   "id": "25d36cf1",
   "metadata": {},
   "outputs": [
    {
     "name": "stdout",
     "output_type": "stream",
     "text": [
      "aug    184\n",
      "sep    172\n",
      "mar     54\n",
      "jul     32\n",
      "feb     20\n",
      "jun     17\n",
      "oct     15\n",
      "apr      9\n",
      "dec      9\n",
      "jan      2\n",
      "may      2\n",
      "nov      1\n",
      "Name: month, dtype: int64\n"
     ]
    }
   ],
   "source": [
    "mcount = forest_fires['month'].value_counts()\n",
    "print(mcount)\n"
   ]
  },
  {
   "cell_type": "code",
   "execution_count": 53,
   "id": "627acee8",
   "metadata": {},
   "outputs": [
    {
     "data": {
      "text/plain": [
       "<AxesSubplot:>"
      ]
     },
     "execution_count": 53,
     "metadata": {},
     "output_type": "execute_result"
    },
    {
     "data": {
      "image/png": "[encoded data removed]",
      "text/plain": [
       "<Figure size 432x288 with 1 Axes>"
      ]
     },
     "metadata": {},
     "output_type": "display_data"
    }
   ],
   "source": [
    "mcount.plot(kind='bar')"
   ]
  },
  {
   "cell_type": "markdown",
   "id": "61b08e02",
   "metadata": {},
   "source": [
    "The months of August and September are shown to have had the most forest fires. "
   ]
  },
  {
   "cell_type": "code",
   "execution_count": 54,
   "id": "370b9e91",
   "metadata": {},
   "outputs": [
    {
     "data": {
      "text/plain": [
       "Text(0.5, 1.0, 'Fire per Day')"
      ]
     },
     "execution_count": 54,
     "metadata": {},
     "output_type": "execute_result"
    },
    {
     "data": {
      "image/png": "[encoded data removed]",
      "text/plain": [
       "<Figure size 432x288 with 1 Axes>"
      ]
     },
     "metadata": {},
     "output_type": "display_data"
    }
   ],
   "source": [
    "# create new df from count of days in forest fire df\n",
    "days = forest_fires.value_counts('day').rename_axis('day').reset_index(name='count')\n",
    "\n",
    "# bar chart with days and fire count\n",
    "days.plot.bar(x='day', y='count', rot=0)\n",
    "\n",
    "# chart labels\n",
    "plt.xlabel('Day')\n",
    "plt.ylabel('Recorded Fires')\n",
    "plt.title('Fire per Day')"
   ]
  },
  {
   "cell_type": "markdown",
   "id": "cb909cfb",
   "metadata": {},
   "source": [
    "From our bar graph, we can see that most forest fires have occured on weekend days, mainly Sundays. This could potentially lead to the conclusion that most of those fires were man made."
   ]
  },
  {
   "cell_type": "code",
   "execution_count": 55,
   "id": "c55cb1ae",
   "metadata": {},
   "outputs": [
    {
     "data": {
      "text/plain": [
       "<function matplotlib.pyplot.show(close=None, block=None)>"
      ]
     },
     "execution_count": 55,
     "metadata": {},
     "output_type": "execute_result"
    },
    {
     "data": {
      "image/png": "[encoded data removed]",
      "text/plain": [
       "<Figure size 432x288 with 1 Axes>"
      ]
     },
     "metadata": {},
     "output_type": "display_data"
    }
   ],
   "source": [
    "# define x value, the categorical variable of the month\n",
    "x = forest_fires['month'].sort_values()\n",
    "y = forest_fires['RH']\n",
    "\n",
    "# chart labels\n",
    "plt.xlabel('Months')\n",
    "plt.ylabel('Relative Humidity')\n",
    "plt.title('Relative Humidity Per Month')\n",
    "\n",
    "# create bar graph\n",
    "plt.bar(x,y)\n",
    "plt.show"
   ]
  },
  {
   "cell_type": "markdown",
   "id": "0273b817",
   "metadata": {},
   "source": [
    "Low humidity takes moisture from the fuels, and fuels in turn, take moisture from the air when the humidity is high. Light fuels, such as grass and pine needles, gain and lose moisture quickly with changes in relative humidity. When RH drops, fire behavior increases because these fine fuels become drier. Relative Humidity appears to be significantly high each month, especially in the months of August and September which were shown to have the most amount of fires. "
   ]
  },
  {
   "cell_type": "code",
   "execution_count": 56,
   "id": "ef6258c3",
   "metadata": {},
   "outputs": [
    {
     "data": {
      "text/plain": [
       "<function matplotlib.pyplot.show(close=None, block=None)>"
      ]
     },
     "execution_count": 56,
     "metadata": {},
     "output_type": "execute_result"
    },
    {
     "data": {
      "image/png": "[encoded data removed]",
      "text/plain": [
       "<Figure size 432x288 with 1 Axes>"
      ]
     },
     "metadata": {},
     "output_type": "display_data"
    }
   ],
   "source": [
    "x = forest_fires['month'].sort_values()\n",
    "y = forest_fires['wind']\n",
    "\n",
    "plt.xlabel('Months')\n",
    "plt.ylabel('Wind')\n",
    "plt.title('Wind Per Month')\n",
    "\n",
    "\n",
    "plt.bar(x,y)\n",
    "plt.show"
   ]
  },
  {
   "cell_type": "markdown",
   "id": "0f68b534",
   "metadata": {},
   "source": [
    "August and September were the months with the highest wind speed which could prove to be a contributing factor of increased forest fires in those months."
   ]
  },
  {
   "cell_type": "code",
   "execution_count": 57,
   "id": "701e5bd2",
   "metadata": {
    "scrolled": true
   },
   "outputs": [
    {
     "data": {
      "image/png": "[encoded data removed]",
      "text/plain": [
       "<Figure size 720x360 with 1 Axes>"
      ]
     },
     "metadata": {},
     "output_type": "display_data"
    }
   ],
   "source": [
    "#creating labelEncoder\n",
    "le = preprocessing.LabelEncoder()\n",
    "#converting string labels into numbers\n",
    "#converts the months into numbers\n",
    "forest_fires.month = le.fit_transform(forest_fires.month)\n",
    "x = forest_fires.iloc[:, 4:13].values\n",
    "y = forest_fires.iloc[:, 2].values\n",
    "plt.figure(figsize=(10,5))\n",
    "plt.scatter(x[:, 0], x[:, 3], c=y, cmap='flag')\n",
    "ax = plt.gca()\n",
    "ax.set_yscale('log')\n",
    "ax.set_xscale('log')\n",
    "plt.xlabel('FFMC index')\n",
    "plt.ylabel('ISI Index')\n",
    "plt.show()\n",
    "# FFMC represents the moisture content of litter and cured fine fuels.\n",
    "# It expresses the ease of ignition and fuel flammability. The higher the FFMC\n",
    "# index, it means the moisture content is low and the forest fuels are dry.\n",
    "# This means that it is easier for the forest to catch on fire.\n",
    "# ISI measures the expected rate of a fire spreading. Based on the scatter plot,\n",
    "# you can generally see that the higher the FFMC index is, the higher the ISI\n",
    "# index is. We can infer that the dryer the forest is, we expect the fire\n",
    "# to occur and spread more."
   ]
  },
  {
   "cell_type": "markdown",
   "id": "8b3b63bf",
   "metadata": {},
   "source": [
    "FFMC represents the moisture content of litter and cured fine fuels. It expresses the ease of ignition and fuel flammability. The higher the FFMC index, it means the moisture content is low and the forest fuels are dry. This means that it is easier for the forest to catch on fire. ISI measures the expected rate of a fire spreading. Based on the scatter plot, you can generally see that the higher the FFMC index is, the higher the ISI index is. We can infer that the dryer the forest is, we expect the fire to occur and spread more."
   ]
  },
  {
   "cell_type": "code",
   "execution_count": 58,
   "id": "99ff123c",
   "metadata": {},
   "outputs": [
    {
     "data": {
      "image/png": "[encoded data removed]",
      "text/plain": [
       "<Figure size 720x360 with 1 Axes>"
      ]
     },
     "metadata": {},
     "output_type": "display_data"
    }
   ],
   "source": [
    "# logarithmic scale plot \n",
    "# ISI = Initial Spread Index -> represents the ability of a fire to spread immediately after ignition\n",
    "m = forest_fires.month\n",
    "plt.figure(figsize=(10,5))\n",
    "plt.scatter(forest_fires['ISI'],forest_fires['area'], c=m, cmap='plasma')\n",
    "plt.grid()\n",
    "plt.xscale(\"log\")\n",
    "plt.yscale(\"log\")\n",
    "plt.title(\"ISI vs. Area\")\n",
    "plt.xlabel('ISI') \n",
    "plt.ylabel('Area')\n",
    "plt.show()"
   ]
  },
  {
   "cell_type": "markdown",
   "id": "6ea8fa53",
   "metadata": {},
   "source": [
    "ISI is the Initial Spread Index, which represents the ability of a fire to spread immediately after ignition. This index is based on wind speed and FFMC. It was shown that there was a significant amount of wind speed throughout most months, specifically September and August. Also, as FFMC increased so does ISI. From the graph, it seems that most fires had very similar ISI's and range of area resulting in a cluster on the scatter plot, give or take a few outliers. ISI doesn't seem to have a significant affect on the area's of forest fires."
   ]
  },
  {
   "cell_type": "code",
   "execution_count": 71,
   "id": "38cc4612",
   "metadata": {},
   "outputs": [
    {
     "data": {
      "text/html": [
       "<div>\n",
       "<style scoped>\n",
       "    .dataframe tbody tr th:only-of-type {\n",
       "        vertical-align: middle;\n",
       "    }\n",
       "\n",
       "    .dataframe tbody tr th {\n",
       "        vertical-align: top;\n",
       "    }\n",
       "\n",
       "    .dataframe thead th {\n",
       "        text-align: right;\n",
       "    }\n",
       "</style>\n",
       "<table border=\"1\" class=\"dataframe\">\n",
       "  <thead>\n",
       "    <tr style=\"text-align: right;\">\n",
       "      <th></th>\n",
       "      <th>X</th>\n",
       "      <th>Y</th>\n",
       "      <th>month</th>\n",
       "      <th>day</th>\n",
       "      <th>FFMC</th>\n",
       "      <th>DMC</th>\n",
       "      <th>DC</th>\n",
       "      <th>ISI</th>\n",
       "      <th>temp</th>\n",
       "      <th>RH</th>\n",
       "      <th>wind</th>\n",
       "      <th>rain</th>\n",
       "      <th>area</th>\n",
       "    </tr>\n",
       "  </thead>\n",
       "  <tbody>\n",
       "    <tr>\n",
       "      <th>0</th>\n",
       "      <td>7</td>\n",
       "      <td>5</td>\n",
       "      <td>mar</td>\n",
       "      <td>fri</td>\n",
       "      <td>86.2</td>\n",
       "      <td>26.2</td>\n",
       "      <td>94.3</td>\n",
       "      <td>5.1</td>\n",
       "      <td>8.2</td>\n",
       "      <td>51</td>\n",
       "      <td>6.7</td>\n",
       "      <td>0.0</td>\n",
       "      <td>0.0</td>\n",
       "    </tr>\n",
       "    <tr>\n",
       "      <th>1</th>\n",
       "      <td>7</td>\n",
       "      <td>4</td>\n",
       "      <td>oct</td>\n",
       "      <td>tue</td>\n",
       "      <td>90.6</td>\n",
       "      <td>35.4</td>\n",
       "      <td>669.1</td>\n",
       "      <td>6.7</td>\n",
       "      <td>18.0</td>\n",
       "      <td>33</td>\n",
       "      <td>0.9</td>\n",
       "      <td>0.0</td>\n",
       "      <td>0.0</td>\n",
       "    </tr>\n",
       "    <tr>\n",
       "      <th>2</th>\n",
       "      <td>7</td>\n",
       "      <td>4</td>\n",
       "      <td>oct</td>\n",
       "      <td>sat</td>\n",
       "      <td>90.6</td>\n",
       "      <td>43.7</td>\n",
       "      <td>686.9</td>\n",
       "      <td>6.7</td>\n",
       "      <td>14.6</td>\n",
       "      <td>33</td>\n",
       "      <td>1.3</td>\n",
       "      <td>0.0</td>\n",
       "      <td>0.0</td>\n",
       "    </tr>\n",
       "    <tr>\n",
       "      <th>3</th>\n",
       "      <td>8</td>\n",
       "      <td>6</td>\n",
       "      <td>mar</td>\n",
       "      <td>fri</td>\n",
       "      <td>91.7</td>\n",
       "      <td>33.3</td>\n",
       "      <td>77.5</td>\n",
       "      <td>9.0</td>\n",
       "      <td>8.3</td>\n",
       "      <td>97</td>\n",
       "      <td>4.0</td>\n",
       "      <td>0.2</td>\n",
       "      <td>0.0</td>\n",
       "    </tr>\n",
       "    <tr>\n",
       "      <th>4</th>\n",
       "      <td>8</td>\n",
       "      <td>6</td>\n",
       "      <td>mar</td>\n",
       "      <td>sun</td>\n",
       "      <td>89.3</td>\n",
       "      <td>51.3</td>\n",
       "      <td>102.2</td>\n",
       "      <td>9.6</td>\n",
       "      <td>11.4</td>\n",
       "      <td>99</td>\n",
       "      <td>1.8</td>\n",
       "      <td>0.0</td>\n",
       "      <td>0.0</td>\n",
       "    </tr>\n",
       "  </tbody>\n",
       "</table>\n",
       "</div>"
      ],
      "text/plain": [
       "   X  Y month  day  FFMC   DMC     DC  ISI  temp  RH  wind  rain  area\n",
       "0  7  5   mar  fri  86.2  26.2   94.3  5.1   8.2  51   6.7   0.0   0.0\n",
       "1  7  4   oct  tue  90.6  35.4  669.1  6.7  18.0  33   0.9   0.0   0.0\n",
       "2  7  4   oct  sat  90.6  43.7  686.9  6.7  14.6  33   1.3   0.0   0.0\n",
       "3  8  6   mar  fri  91.7  33.3   77.5  9.0   8.3  97   4.0   0.2   0.0\n",
       "4  8  6   mar  sun  89.3  51.3  102.2  9.6  11.4  99   1.8   0.0   0.0"
      ]
     },
     "execution_count": 71,
     "metadata": {},
     "output_type": "execute_result"
    }
   ],
   "source": [
    "forest_fires = pd.read_csv('forestfires.csv')\n",
    "forest_fires.head()"
   ]
  },
  {
   "cell_type": "code",
   "execution_count": 72,
   "id": "83b4e13f",
   "metadata": {},
   "outputs": [],
   "source": [
    "#empty list for DMC for each month\n",
    "jan_DMC = []\n",
    "feb_DMC = []\n",
    "mar_DMC = []\n",
    "apr_DMC = []\n",
    "may_DMC = []\n",
    "jun_DMC = []\n",
    "jul_DMC = []\n",
    "aug_DMC = []\n",
    "sep_DMC = []\n",
    "oct_DMC = []\n",
    "nov_DMC = []\n",
    "dec_DMC = []"
   ]
  },
  {
   "cell_type": "code",
   "execution_count": 73,
   "id": "4cc60519",
   "metadata": {},
   "outputs": [],
   "source": [
    "#adding DMC value to appropriate list for everytime each month occurs\n",
    "for n in range(forest_fires.shape[0]):\n",
    "    if forest_fires.month[n] == 'jan':\n",
    "        jan_DMC.append(forest_fires.DMC[n])\n",
    "    elif forest_fires.month[n] == 'feb':\n",
    "        feb_DMC.append(forest_fires.DMC[n])\n",
    "    elif forest_fires.month[n] == 'mar':\n",
    "        mar_DMC.append(forest_fires.DMC[n])\n",
    "    elif forest_fires.month[n] == 'apr':\n",
    "        apr_DMC.append(forest_fires.DMC[n])\n",
    "    elif forest_fires.month[n] == 'may':\n",
    "        may_DMC.append(forest_fires.DMC[n])\n",
    "    elif forest_fires.month[n] == 'jun':\n",
    "        jun_DMC.append(forest_fires.DMC[n])\n",
    "    elif forest_fires.month[n] == 'jul':\n",
    "        jul_DMC.append(forest_fires.DMC[n])\n",
    "    elif forest_fires.month[n] == 'aug':\n",
    "        aug_DMC.append(forest_fires.DMC[n])\n",
    "    elif forest_fires.month[n] == 'sep':\n",
    "        sep_DMC.append(forest_fires.DMC[n])\n",
    "    elif forest_fires.month[n] == 'oct':\n",
    "        oct_DMC.append(forest_fires.DMC[n])\n",
    "    elif forest_fires.month[n] == 'nov':\n",
    "        nov_DMC.append(forest_fires.DMC[n])\n",
    "    elif forest_fires.month[n] == 'dec':\n",
    "        dec_DMC.append(forest_fires.DMC[n])\n",
    "    else:\n",
    "        break"
   ]
  },
  {
   "cell_type": "code",
   "execution_count": 74,
   "id": "0ac71bf1",
   "metadata": {},
   "outputs": [
    {
     "name": "stdout",
     "output_type": "stream",
     "text": [
      "   Month     Avg_DMC\n",
      "0    Jan    2.400000\n",
      "1    Feb    9.475000\n",
      "2    Mar   34.542593\n",
      "3    Apr   15.911111\n",
      "4    May   26.700000\n",
      "5    Jun   93.382353\n",
      "6    Jul  110.387500\n",
      "7    Aug  153.732609\n",
      "8    Sep  120.922674\n",
      "9    Oct   41.420000\n",
      "10   Nov    3.000000\n",
      "11   Dec   26.122222\n"
     ]
    }
   ],
   "source": [
    "#creating a data frame with month and calculated average DMC per month\n",
    "DMC_avg = pd.DataFrame()\n",
    "\n",
    "DMC_avg['Month'] = ['Jan', 'Feb', 'Mar',\n",
    "                    'Apr', 'May', 'Jun',\n",
    "                    'Jul', 'Aug', 'Sep',\n",
    "                    'Oct', 'Nov', 'Dec']\n",
    "DMC_avg['Avg_DMC'] = [stat.mean(jan_DMC), stat.mean(feb_DMC), stat.mean(mar_DMC),\n",
    "                       stat.mean(apr_DMC), stat.mean(may_DMC), stat.mean(jun_DMC),\n",
    "                       stat.mean(jul_DMC), stat.mean(aug_DMC), stat.mean(sep_DMC),\n",
    "                       stat.mean(oct_DMC), stat.mean(nov_DMC), stat.mean(dec_DMC)]\n",
    "print(DMC_avg)"
   ]
  },
  {
   "cell_type": "code",
   "execution_count": 75,
   "id": "e3139b55",
   "metadata": {},
   "outputs": [
    {
     "data": {
      "image/png": "[encoded data removed]",
      "text/plain": [
       "<Figure size 432x288 with 1 Axes>"
      ]
     },
     "metadata": {},
     "output_type": "display_data"
    }
   ],
   "source": [
    "#plot for month vs average DMC\n",
    "plt.plot(DMC_avg['Month'], DMC_avg['Avg_DMC'], label = 'Average DMC')\n",
    "\n",
    "plt.show()"
   ]
  },
  {
   "cell_type": "code",
   "execution_count": 76,
   "id": "84c035d1",
   "metadata": {},
   "outputs": [],
   "source": [
    "#empty list for DC\n",
    "jan_DC = []\n",
    "feb_DC = []\n",
    "mar_DC = []\n",
    "apr_DC = []\n",
    "may_DC = []\n",
    "jun_DC = []\n",
    "jul_DC = []\n",
    "aug_DC = []\n",
    "sep_DC = []\n",
    "oct_DC = []\n",
    "nov_DC = []\n",
    "dec_DC = []"
   ]
  },
  {
   "cell_type": "code",
   "execution_count": 77,
   "id": "4371ca52",
   "metadata": {},
   "outputs": [],
   "source": [
    "for n in range(forest_fires.shape[0]):\n",
    "    if forest_fires.month[n] == 'jan':\n",
    "        jan_DC.append(forest_fires.DC[n])\n",
    "    elif forest_fires.month[n] == 'feb':\n",
    "        feb_DC.append(forest_fires.DC[n])\n",
    "    elif forest_fires.month[n] == 'mar':\n",
    "        mar_DC.append(forest_fires.DC[n])\n",
    "    elif forest_fires.month[n] == 'apr':\n",
    "        apr_DC.append(forest_fires.DC[n])\n",
    "    elif forest_fires.month[n] == 'may':\n",
    "        may_DC.append(forest_fires.DC[n])\n",
    "    elif forest_fires.month[n] == 'jun':\n",
    "        jun_DC.append(forest_fires.DC[n])\n",
    "    elif forest_fires.month[n] == 'jul':\n",
    "        jul_DC.append(forest_fires.DC[n])\n",
    "    elif forest_fires.month[n] == 'aug':\n",
    "        aug_DC.append(forest_fires.DC[n])\n",
    "    elif forest_fires.month[n] == 'sep':\n",
    "        sep_DC.append(forest_fires.DC[n])\n",
    "    elif forest_fires.month[n] == 'oct':\n",
    "        oct_DC.append(forest_fires.DC[n])\n",
    "    elif forest_fires.month[n] == 'nov':\n",
    "        nov_DC.append(forest_fires.DC[n])\n",
    "    elif forest_fires.month[n] == 'dec':\n",
    "        dec_DC.append(forest_fires.DC[n])\n",
    "    else:\n",
    "        break"
   ]
  },
  {
   "cell_type": "code",
   "execution_count": 78,
   "id": "e31766bc",
   "metadata": {},
   "outputs": [
    {
     "name": "stdout",
     "output_type": "stream",
     "text": [
      "   Month      Avg_DC\n",
      "0    Jan   90.350000\n",
      "1    Feb   54.670000\n",
      "2    Mar   75.942593\n",
      "3    Apr   48.555556\n",
      "4    May   93.750000\n",
      "5    Jun  297.705882\n",
      "6    Jul  450.603125\n",
      "7    Aug  641.077717\n",
      "8    Sep  734.615698\n",
      "9    Oct  681.673333\n",
      "10   Nov  106.700000\n",
      "11   Dec  351.244444\n"
     ]
    }
   ],
   "source": [
    "#displaying data frame for month and average DC\n",
    "DC_avg = pd.DataFrame()\n",
    "\n",
    "DC_avg['Month'] = ['Jan', 'Feb', 'Mar',\n",
    "                    'Apr', 'May', 'Jun',\n",
    "                    'Jul', 'Aug', 'Sep',\n",
    "                    'Oct', 'Nov', 'Dec']\n",
    "DC_avg['Avg_DC'] = [stat.mean(jan_DC), stat.mean(feb_DC), stat.mean(mar_DC),\n",
    "                    stat.mean(apr_DC), stat.mean(may_DC), stat.mean(jun_DC),\n",
    "                    stat.mean(jul_DC), stat.mean(aug_DC), stat.mean(sep_DC),\n",
    "                    stat.mean(oct_DC), stat.mean(nov_DC), stat.mean(dec_DC)]\n",
    "print(DC_avg)"
   ]
  },
  {
   "cell_type": "code",
   "execution_count": 79,
   "id": "f322a18f",
   "metadata": {},
   "outputs": [
    {
     "data": {
      "image/png": "[encoded data removed]",
      "text/plain": [
       "<Figure size 432x288 with 1 Axes>"
      ]
     },
     "metadata": {},
     "output_type": "display_data"
    }
   ],
   "source": [
    "#plot for month vs average DC\n",
    "plt.plot(DC_avg['Month'], DC_avg['Avg_DC'], label = 'Average DC')\n",
    "\n",
    "plt.show()"
   ]
  },
  {
   "cell_type": "code",
   "execution_count": 81,
   "id": "440aee10",
   "metadata": {},
   "outputs": [
    {
     "data": {
      "image/png": "[encoded data removed]",
      "text/plain": [
       "<Figure size 432x288 with 1 Axes>"
      ]
     },
     "metadata": {},
     "output_type": "display_data"
    }
   ],
   "source": [
    "#plot combining month vs average DMC and DC\n",
    "plt.plot(DMC_avg['Month'], DMC_avg['Avg_DMC'],\n",
    "         label = 'DMC', linestyle = '--')\n",
    "plt.plot(DC_avg['Month'], DC_avg['Avg_DC'],\n",
    "         label = 'DC', linestyle = ':')\n",
    "\n",
    "plt.xlabel('Month')\n",
    "plt.title('Average DMC and DC per Month')\n",
    "plt.legend(loc = 'upper left')\n",
    "\n",
    "plt.show()"
   ]
  },
  {
   "cell_type": "markdown",
   "id": "d2bc0115",
   "metadata": {},
   "source": []
  }
 ],
 "metadata": {
  "kernelspec": {
   "display_name": "Python 3 (ipykernel)",
   "language": "python",
   "name": "python3"
  },
  "language_info": {
   "codemirror_mode": {
    "name": "ipython",
    "version": 3
   },
   "file_extension": ".py",
   "mimetype": "text/x-python",
   "name": "python",
   "nbconvert_exporter": "python",
   "pygments_lexer": "ipython3",
   "version": "3.9.12"
  }
 },
 "nbformat": 4,
 "nbformat_minor": 5
}
